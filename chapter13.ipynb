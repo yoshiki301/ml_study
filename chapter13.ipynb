{
 "cells": [
  {
   "cell_type": "code",
   "execution_count": 1,
   "metadata": {},
   "outputs": [
    {
     "name": "stderr",
     "output_type": "stream",
     "text": [
      "/Users/irieyoshiki/.local/lib/python3.7/site-packages/tensorflow/python/framework/dtypes.py:526: FutureWarning: Passing (type, 1) or '1type' as a synonym of type is deprecated; in a future version of numpy, it will be understood as (type, (1,)) / '(1,)type'.\n",
      "  _np_qint8 = np.dtype([(\"qint8\", np.int8, 1)])\n",
      "/Users/irieyoshiki/.local/lib/python3.7/site-packages/tensorflow/python/framework/dtypes.py:527: FutureWarning: Passing (type, 1) or '1type' as a synonym of type is deprecated; in a future version of numpy, it will be understood as (type, (1,)) / '(1,)type'.\n",
      "  _np_quint8 = np.dtype([(\"quint8\", np.uint8, 1)])\n",
      "/Users/irieyoshiki/.local/lib/python3.7/site-packages/tensorflow/python/framework/dtypes.py:528: FutureWarning: Passing (type, 1) or '1type' as a synonym of type is deprecated; in a future version of numpy, it will be understood as (type, (1,)) / '(1,)type'.\n",
      "  _np_qint16 = np.dtype([(\"qint16\", np.int16, 1)])\n",
      "/Users/irieyoshiki/.local/lib/python3.7/site-packages/tensorflow/python/framework/dtypes.py:529: FutureWarning: Passing (type, 1) or '1type' as a synonym of type is deprecated; in a future version of numpy, it will be understood as (type, (1,)) / '(1,)type'.\n",
      "  _np_quint16 = np.dtype([(\"quint16\", np.uint16, 1)])\n",
      "/Users/irieyoshiki/.local/lib/python3.7/site-packages/tensorflow/python/framework/dtypes.py:530: FutureWarning: Passing (type, 1) or '1type' as a synonym of type is deprecated; in a future version of numpy, it will be understood as (type, (1,)) / '(1,)type'.\n",
      "  _np_qint32 = np.dtype([(\"qint32\", np.int32, 1)])\n",
      "/Users/irieyoshiki/.local/lib/python3.7/site-packages/tensorflow/python/framework/dtypes.py:535: FutureWarning: Passing (type, 1) or '1type' as a synonym of type is deprecated; in a future version of numpy, it will be understood as (type, (1,)) / '(1,)type'.\n",
      "  np_resource = np.dtype([(\"resource\", np.ubyte, 1)])\n"
     ]
    },
    {
     "name": "stdout",
     "output_type": "stream",
     "text": [
      "WARNING:tensorflow:From /Users/irieyoshiki/.local/lib/python3.7/site-packages/tensorflow/python/compat/compat.py:175: disable_resource_variables (from tensorflow.python.ops.variable_scope) is deprecated and will be removed in a future version.\n",
      "Instructions for updating:\n",
      "non-resource variables are not supported in the long term\n"
     ]
    },
    {
     "name": "stderr",
     "output_type": "stream",
     "text": [
      "Using TensorFlow backend.\n"
     ]
    }
   ],
   "source": [
    "import os\n",
    "import struct\n",
    "\n",
    "import numpy as np\n",
    "import tensorflow as tf\n",
    "tf.disable_v2_behavior() # TensorFlowを1系ライクに扱う\n",
    "import keras"
   ]
  },
  {
   "cell_type": "markdown",
   "metadata": {},
   "source": [
    "# Layers APIを使って多層ニューラルネットワークを構築する\n",
    "\n",
    "TensorFlowの高レベルAPIである`tensorflow.layers`によってニューラルネットワークを構築する。前のページで定義されていた`load_mnist`を使って読み込んで前処理をしてみる。"
   ]
  },
  {
   "cell_type": "code",
   "execution_count": 2,
   "metadata": {},
   "outputs": [],
   "source": [
    "def load_mnist(path, kind='train'):\n",
    "    # パスを結合してロード, gzip形式でロード\n",
    "    labels_path = os.path.join(path, '%s-labels-idx1-ubyte' % kind)\n",
    "    images_path = os.path.join(path, '%s-images-idx3-ubyte' % kind)\n",
    "    \n",
    "    # ラベルを読み込む\n",
    "    with open(labels_path, 'rb') as lbpath:\n",
    "        # バイナリを文字列に変換, 8バイト分を指定してマジックナンバー, アイテムの個数を読み込む\n",
    "        magic, n = struct.unpack('>II', lbpath.read(8))\n",
    "        # ファイルからラベルを読み込み配列を構築\n",
    "        labels = np.fromfile(lbpath, dtype=np.uint8)\n",
    "        \n",
    "    # 画像を読み込む\n",
    "    with open(images_path, 'rb') as imgpath:\n",
    "        magic, num, rows, cols = struct.unpack('>IIII', imgpath.read(16))\n",
    "        # 画像ピクセル情報の配列サイズを変更\n",
    "        images = np.fromfile(imgpath, dtype=np.uint8).reshape(len(labels), 784)\n",
    "        images = ((images / 255.) - .5) * 2\n",
    "        \n",
    "    return images, labels"
   ]
  },
  {
   "cell_type": "code",
   "execution_count": 3,
   "metadata": {},
   "outputs": [
    {
     "name": "stdout",
     "output_type": "stream",
     "text": [
      "(60000, 784) (60000,)\n",
      "(10000, 784) (10000,)\n"
     ]
    }
   ],
   "source": [
    "# train, testをそれぞれロード\n",
    "X_train, y_train = load_mnist('.', kind='train')\n",
    "X_test, y_test = load_mnist('.', kind='t10k')\n",
    "\n",
    "# 標準化と正規化\n",
    "mean_vals = np.mean(X_train, axis=0)\n",
    "std_val = np.std(X_train)\n",
    "\n",
    "X_train_centered = (X_train - mean_vals) / std_val\n",
    "X_test_centered = (X_test - mean_vals) / std_val\n",
    "\n",
    "# 使わなくなったデータは削除してメモリを節約する\n",
    "del X_train, X_test\n",
    "\n",
    "print(X_train_centered.shape, y_train.shape)\n",
    "print(X_test_centered.shape, y_test.shape)"
   ]
  },
  {
   "cell_type": "markdown",
   "metadata": {},
   "source": [
    "ここから実際にモデル構築を行う。\n",
    "\n",
    "## 1. プレースホルダの作成、全結合層の定義\n",
    "`tf_x`と`tf_y`の2つのプレースホルダを作成して、全結合層を3つ定義する。なお$\\tanh$関数と$softmax$関数については次節に説明を任せる。"
   ]
  },
  {
   "cell_type": "code",
   "execution_count": 4,
   "metadata": {},
   "outputs": [
    {
     "name": "stdout",
     "output_type": "stream",
     "text": [
      "WARNING:tensorflow:From <ipython-input-4-57d912345125>:24: dense (from tensorflow.python.layers.core) is deprecated and will be removed in a future version.\n",
      "Instructions for updating:\n",
      "Use keras.layers.dense instead.\n",
      "WARNING:tensorflow:From /Users/irieyoshiki/.local/lib/python3.7/site-packages/tensorflow/python/framework/op_def_library.py:263: colocate_with (from tensorflow.python.framework.ops) is deprecated and will be removed in a future version.\n",
      "Instructions for updating:\n",
      "Colocations handled automatically by placer.\n"
     ]
    }
   ],
   "source": [
    "n_features = X_train_centered.shape[1]\n",
    "n_classes = 10\n",
    "random_seed = 123\n",
    "np.random.seed(random_seed)\n",
    "\n",
    "g = tf.Graph()\n",
    "with g.as_default():\n",
    "    tf.set_random_seed(random_seed)\n",
    "    \n",
    "    # 入力層\n",
    "    tf_x = tf.placeholder(dtype=tf.float32,\n",
    "                          shape=(None, n_features),\n",
    "                          name='tf_x')\n",
    "    # 出力層\n",
    "    tf_y = tf.placeholder(dtype=tf.int32,\n",
    "                          shape=None,\n",
    "                          name='tf_y')\n",
    "    y_onehot = tf.one_hot(indices=tf_y, depth=n_classes)\n",
    "    \n",
    "    # 隠れ層\n",
    "    h1 = tf.layers.dense(inputs=tf_x,\n",
    "                         units=50,\n",
    "                         activation=tf.tanh,\n",
    "                         name='layer1')\n",
    "    h2 = tf.layers.dense(inputs=h1,\n",
    "                         units=50,\n",
    "                         activation=tf.tanh,\n",
    "                         name='layer2')\n",
    "    logits = tf.layers.dense(inputs=h2,\n",
    "                             units=10,\n",
    "                             activation=None,\n",
    "                             name='layer3')\n",
    "    \n",
    "    predictions = {\n",
    "        'classes' : tf.argmax(logits, axis=1, name='predicted_classes'),\n",
    "        'probabilities' : tf.nn.softmax(logits, name='softmax_tensor')\n",
    "    }"
   ]
  },
  {
   "cell_type": "markdown",
   "metadata": {},
   "source": [
    "次にコスト関数とオプティマイザの定義を行う。"
   ]
  },
  {
   "cell_type": "code",
   "execution_count": 5,
   "metadata": {},
   "outputs": [
    {
     "name": "stdout",
     "output_type": "stream",
     "text": [
      "WARNING:tensorflow:From /Users/irieyoshiki/.local/lib/python3.7/site-packages/tensorflow/python/ops/losses/losses_impl.py:209: to_float (from tensorflow.python.ops.math_ops) is deprecated and will be removed in a future version.\n",
      "Instructions for updating:\n",
      "Use tf.cast instead.\n"
     ]
    }
   ],
   "source": [
    "with g.as_default():\n",
    "    cost = tf.losses.softmax_cross_entropy(onehot_labels=y_onehot,\n",
    "                                           logits=logits)\n",
    "    optimizer = tf.train.GradientDescentOptimizer(learning_rate=0.001)\n",
    "    train_op = optimizer.minimize(loss=cost)\n",
    "    init_op = tf.global_variables_initializer()"
   ]
  },
  {
   "cell_type": "markdown",
   "metadata": {},
   "source": [
    "その後、実際に学習する前にはデータバッチが必要となるのでバッチを作成する関数を定義する。呼び出すたびに新しいバッチを生成するようにジェネレータとして定義する。"
   ]
  },
  {
   "cell_type": "code",
   "execution_count": 6,
   "metadata": {},
   "outputs": [],
   "source": [
    "def create_batch_generator(X, y, batch_size=128, shuffle=False):\n",
    "    X_copy = np.array(X)\n",
    "    y_copy = np.array(y)\n",
    "    \n",
    "    if shuffle:\n",
    "        data = np.column_stack((X_copy, y_copy))\n",
    "        np.random.shuffle(data)\n",
    "        X_copy = data[:, :-1]\n",
    "        y_copy = data[:, -1].astype(int)\n",
    "        \n",
    "    for i in range(0, X.shape[0], batch_size):\n",
    "        yield (X_copy[i:i+batch_size, :], y_copy[i:i+batch_size])"
   ]
  },
  {
   "cell_type": "markdown",
   "metadata": {},
   "source": [
    "TensorFlow1系ではセッションを作成(計算グラフを起動する)してニューラルネットワークを初期化した後に学習を開始する。学習途中にエポック毎の学習プロセスを監視して、トレーニングの平均損失率も表示する。"
   ]
  },
  {
   "cell_type": "code",
   "execution_count": 7,
   "metadata": {},
   "outputs": [
    {
     "name": "stdout",
     "output_type": "stream",
     "text": [
      "Epoch  1 Avg. Trainging Loss: 1.5573\n",
      "Epoch  2 Avg. Trainging Loss: 1.2532\n",
      "Epoch  3 Avg. Trainging Loss: 1.0854\n",
      "Epoch  4 Avg. Trainging Loss: 0.9738\n",
      "Epoch  5 Avg. Trainging Loss: 0.8924\n",
      "Epoch  6 Avg. Trainging Loss: 0.8296\n",
      "Epoch  7 Avg. Trainging Loss: 0.7794\n",
      "Epoch  8 Avg. Trainging Loss: 0.7381\n",
      "Epoch  9 Avg. Trainging Loss: 0.7032\n",
      "Epoch 10 Avg. Trainging Loss: 0.6734\n",
      "Epoch 11 Avg. Trainging Loss: 0.6475\n",
      "Epoch 12 Avg. Trainging Loss: 0.6247\n",
      "Epoch 13 Avg. Trainging Loss: 0.6045\n",
      "Epoch 14 Avg. Trainging Loss: 0.5864\n",
      "Epoch 15 Avg. Trainging Loss: 0.5700\n",
      "Epoch 16 Avg. Trainging Loss: 0.5551\n",
      "Epoch 17 Avg. Trainging Loss: 0.5415\n",
      "Epoch 18 Avg. Trainging Loss: 0.5290\n",
      "Epoch 19 Avg. Trainging Loss: 0.5175\n",
      "Epoch 20 Avg. Trainging Loss: 0.5068\n",
      "Epoch 21 Avg. Trainging Loss: 0.4968\n",
      "Epoch 22 Avg. Trainging Loss: 0.4875\n",
      "Epoch 23 Avg. Trainging Loss: 0.4788\n",
      "Epoch 24 Avg. Trainging Loss: 0.4706\n",
      "Epoch 25 Avg. Trainging Loss: 0.4629\n",
      "Epoch 26 Avg. Trainging Loss: 0.4556\n",
      "Epoch 27 Avg. Trainging Loss: 0.4487\n",
      "Epoch 28 Avg. Trainging Loss: 0.4422\n",
      "Epoch 29 Avg. Trainging Loss: 0.4359\n",
      "Epoch 30 Avg. Trainging Loss: 0.4300\n",
      "Epoch 31 Avg. Trainging Loss: 0.4243\n",
      "Epoch 32 Avg. Trainging Loss: 0.4189\n",
      "Epoch 33 Avg. Trainging Loss: 0.4138\n",
      "Epoch 34 Avg. Trainging Loss: 0.4088\n",
      "Epoch 35 Avg. Trainging Loss: 0.4041\n",
      "Epoch 36 Avg. Trainging Loss: 0.3995\n",
      "Epoch 37 Avg. Trainging Loss: 0.3951\n",
      "Epoch 38 Avg. Trainging Loss: 0.3909\n",
      "Epoch 39 Avg. Trainging Loss: 0.3868\n",
      "Epoch 40 Avg. Trainging Loss: 0.3829\n",
      "Epoch 41 Avg. Trainging Loss: 0.3791\n",
      "Epoch 42 Avg. Trainging Loss: 0.3754\n",
      "Epoch 43 Avg. Trainging Loss: 0.3718\n",
      "Epoch 44 Avg. Trainging Loss: 0.3684\n",
      "Epoch 45 Avg. Trainging Loss: 0.3651\n",
      "Epoch 46 Avg. Trainging Loss: 0.3618\n",
      "Epoch 47 Avg. Trainging Loss: 0.3587\n",
      "Epoch 48 Avg. Trainging Loss: 0.3556\n",
      "Epoch 49 Avg. Trainging Loss: 0.3527\n",
      "Epoch 50 Avg. Trainging Loss: 0.3498\n"
     ]
    }
   ],
   "source": [
    "sess = tf.Session(graph=g)\n",
    "sess.run(init_op)\n",
    "\n",
    "# 50epochのトレーニング\n",
    "training_costs = []\n",
    "for epoch in range(50):\n",
    "    training_loss = []\n",
    "    batch_generator = create_batch_generator(X_train_centered, y_train, batch_size=64)\n",
    "    \n",
    "    for batch_X, batch_y in batch_generator:\n",
    "        feed = {tf_x: batch_X, tf_y: batch_y}\n",
    "        _, batch_cost = sess.run([train_op, cost], feed_dict=feed)\n",
    "        training_costs.append(batch_cost)\n",
    "        \n",
    "    print('Epoch %2d Avg. Trainging Loss: %.4f' % (epoch+1, np.mean(training_costs)))"
   ]
  },
  {
   "cell_type": "code",
   "execution_count": 8,
   "metadata": {},
   "outputs": [
    {
     "name": "stdout",
     "output_type": "stream",
     "text": [
      "Test Accuracy: 93.89%\n"
     ]
    }
   ],
   "source": [
    "# 最後に予測してみる\n",
    "feed = {tf_x: X_test_centered}\n",
    "y_pred = sess.run(predictions['classes'], feed_dict=feed)\n",
    "\n",
    "print('Test Accuracy: %.2f%%' % (100 * np.sum(y_pred == y_test) / y_test.shape[0]))"
   ]
  },
  {
   "cell_type": "markdown",
   "metadata": {},
   "source": [
    "# Kerasを使って多層ニューラルネットワークを開発する\n",
    "\n",
    "KerasはTensorFlowの高レベルAPIの1つである。Kerasの主たる機能は`Sequential`モデルというレイヤーの線形スタックを構成するモデルである。"
   ]
  },
  {
   "cell_type": "code",
   "execution_count": 9,
   "metadata": {},
   "outputs": [
    {
     "data": {
      "image/gif": "[encoded data removed]",
      "text/plain": [
       "<IPython.core.display.Image object>"
      ]
     },
     "execution_count": 9,
     "metadata": {},
     "output_type": "execute_result"
    }
   ],
   "source": [
    "from IPython.display import Image\n",
    "Image(\"./ch13_image1.gif\")"
   ]
  },
  {
   "cell_type": "markdown",
   "metadata": {},
   "source": [
    "先ほどのモデルをKerasで実装すると、以下のようになる。"
   ]
  },
  {
   "cell_type": "code",
   "execution_count": 10,
   "metadata": {},
   "outputs": [
    {
     "name": "stdout",
     "output_type": "stream",
     "text": [
      "(60000, 784) (60000,)\n",
      "(10000, 784) (10000,)\n"
     ]
    }
   ],
   "source": [
    "# もう一度train, testをそれぞれロード\n",
    "X_train, y_train = load_mnist('.', kind='train')\n",
    "X_test, y_test = load_mnist('.', kind='t10k')\n",
    "\n",
    "# 標準化と正規化\n",
    "mean_vals = np.mean(X_train, axis=0)\n",
    "std_val = np.std(X_train)\n",
    "\n",
    "X_train_centered = (X_train - mean_vals) / std_val\n",
    "X_test_centered = (X_test - mean_vals) / std_val\n",
    "\n",
    "# 使わなくなったデータは削除してメモリを節約する\n",
    "del X_train, X_test\n",
    "\n",
    "print(X_train_centered.shape, y_train.shape)\n",
    "print(X_test_centered.shape, y_test.shape)"
   ]
  },
  {
   "cell_type": "code",
   "execution_count": 11,
   "metadata": {},
   "outputs": [],
   "source": [
    "# keras.utils.to_categoricalでone-hot表現にする\n",
    "y_train_onehot = tf.keras.utils.to_categorical(y_train)"
   ]
  },
  {
   "cell_type": "markdown",
   "metadata": {},
   "source": [
    "Kerasはモデルを直感的に定義できるのが利点であり、初期化、層の追加、オプティマイザの設定の後にコンパイルする。"
   ]
  },
  {
   "cell_type": "code",
   "execution_count": 12,
   "metadata": {},
   "outputs": [],
   "source": [
    "# モデルの初期化\n",
    "model = keras.models.Sequential()\n",
    "\n",
    "# 1つ目の隠れ層\n",
    "model.add(keras.layers.Dense(units=50,\n",
    "                             input_dim=X_train_centered.shape[1],\n",
    "                             kernel_initializer='glorot_uniform',\n",
    "                             bias_initializer='zeros',\n",
    "                             activation='tanh'))\n",
    "\n",
    "# 2つ目の隠れ層\n",
    "model.add(keras.layers.Dense(units=50,\n",
    "                      input_dim=50,\n",
    "                      kernel_initializer='glorot_uniform',\n",
    "                      bias_initializer='zeros',\n",
    "                      activation='tanh'))\n",
    "\n",
    "# 出力層\n",
    "model.add(keras.layers.Dense(units=y_train_onehot.shape[1],\n",
    "                             input_dim=50,\n",
    "                             kernel_initializer='glorot_uniform',\n",
    "                             bias_initializer='zeros',\n",
    "                             activation='softmax'))\n",
    "\n",
    "# オプティマイザの設定, 学習率, 荷重減衰率, モーメンタム学習を設定\n",
    "sgd_optimizer = keras.optimizers.SGD(lr=0.001, decay=1e-7, momentum=.9)\n",
    "\n",
    "# モデルのコンパイル\n",
    "model.compile(optimizer=sgd_optimizer, loss='categorical_crossentropy')"
   ]
  },
  {
   "cell_type": "markdown",
   "metadata": {},
   "source": [
    "学習についても`model.fit`で簡単に行え、historyの表示もしてくれる。"
   ]
  },
  {
   "cell_type": "code",
   "execution_count": 13,
   "metadata": {},
   "outputs": [
    {
     "name": "stdout",
     "output_type": "stream",
     "text": [
      "WARNING:tensorflow:From /Users/irieyoshiki/.local/lib/python3.7/site-packages/tensorflow/python/ops/math_ops.py:3066: to_int32 (from tensorflow.python.ops.math_ops) is deprecated and will be removed in a future version.\n",
      "Instructions for updating:\n",
      "Use tf.cast instead.\n",
      "Train on 54000 samples, validate on 6000 samples\n",
      "Epoch 1/50\n",
      "54000/54000 [==============================] - 2s 28us/step - loss: 0.7247 - val_loss: 0.3621\n",
      "Epoch 2/50\n",
      "54000/54000 [==============================] - 1s 25us/step - loss: 0.3657 - val_loss: 0.2718\n",
      "Epoch 3/50\n",
      "54000/54000 [==============================] - 1s 24us/step - loss: 0.2970 - val_loss: 0.2331\n",
      "Epoch 4/50\n",
      "54000/54000 [==============================] - 1s 25us/step - loss: 0.2604 - val_loss: 0.2105\n",
      "Epoch 5/50\n",
      "54000/54000 [==============================] - 1s 25us/step - loss: 0.2353 - val_loss: 0.1930\n",
      "Epoch 6/50\n",
      "54000/54000 [==============================] - 1s 25us/step - loss: 0.2162 - val_loss: 0.1807\n",
      "Epoch 7/50\n",
      "54000/54000 [==============================] - 1s 25us/step - loss: 0.2006 - val_loss: 0.1718\n",
      "Epoch 8/50\n",
      "54000/54000 [==============================] - 1s 26us/step - loss: 0.1877 - val_loss: 0.1634\n",
      "Epoch 9/50\n",
      "54000/54000 [==============================] - 1s 25us/step - loss: 0.1763 - val_loss: 0.1565\n",
      "Epoch 10/50\n",
      "54000/54000 [==============================] - 1s 25us/step - loss: 0.1664 - val_loss: 0.1504\n",
      "Epoch 11/50\n",
      "54000/54000 [==============================] - 1s 25us/step - loss: 0.1577 - val_loss: 0.1456\n",
      "Epoch 12/50\n",
      "54000/54000 [==============================] - 1s 25us/step - loss: 0.1498 - val_loss: 0.1406\n",
      "Epoch 13/50\n",
      "54000/54000 [==============================] - 1s 25us/step - loss: 0.1424 - val_loss: 0.1377\n",
      "Epoch 14/50\n",
      "54000/54000 [==============================] - 1s 26us/step - loss: 0.1360 - val_loss: 0.1343\n",
      "Epoch 15/50\n",
      "54000/54000 [==============================] - 1s 25us/step - loss: 0.1301 - val_loss: 0.1317\n",
      "Epoch 16/50\n",
      "54000/54000 [==============================] - 1s 25us/step - loss: 0.1245 - val_loss: 0.1287\n",
      "Epoch 17/50\n",
      "54000/54000 [==============================] - 1s 25us/step - loss: 0.1194 - val_loss: 0.1264A: 0s - lo\n",
      "Epoch 18/50\n",
      "54000/54000 [==============================] - 1s 24us/step - loss: 0.1148 - val_loss: 0.1242\n",
      "Epoch 19/50\n",
      "54000/54000 [==============================] - 1s 25us/step - loss: 0.1103 - val_loss: 0.1224\n",
      "Epoch 20/50\n",
      "54000/54000 [==============================] - 1s 26us/step - loss: 0.1062 - val_loss: 0.1211\n",
      "Epoch 21/50\n",
      "54000/54000 [==============================] - 1s 25us/step - loss: 0.1023 - val_loss: 0.1201\n",
      "Epoch 22/50\n",
      "54000/54000 [==============================] - 1s 25us/step - loss: 0.0987 - val_loss: 0.1186\n",
      "Epoch 23/50\n",
      "54000/54000 [==============================] - 1s 26us/step - loss: 0.0952 - val_loss: 0.1180\n",
      "Epoch 24/50\n",
      "54000/54000 [==============================] - 1s 25us/step - loss: 0.0920 - val_loss: 0.1157\n",
      "Epoch 25/50\n",
      "54000/54000 [==============================] - 1s 25us/step - loss: 0.0889 - val_loss: 0.1149\n",
      "Epoch 26/50\n",
      "54000/54000 [==============================] - 1s 25us/step - loss: 0.0858 - val_loss: 0.1147\n",
      "Epoch 27/50\n",
      "54000/54000 [==============================] - 1s 25us/step - loss: 0.0831 - val_loss: 0.1141\n",
      "Epoch 28/50\n",
      "54000/54000 [==============================] - 1s 25us/step - loss: 0.0805 - val_loss: 0.1133\n",
      "Epoch 29/50\n",
      "54000/54000 [==============================] - 1s 25us/step - loss: 0.0779 - val_loss: 0.1121\n",
      "Epoch 30/50\n",
      "54000/54000 [==============================] - 1s 25us/step - loss: 0.0754 - val_loss: 0.1117\n",
      "Epoch 31/50\n",
      "54000/54000 [==============================] - 1s 26us/step - loss: 0.0732 - val_loss: 0.1110\n",
      "Epoch 32/50\n",
      "54000/54000 [==============================] - 1s 25us/step - loss: 0.0709 - val_loss: 0.1114\n",
      "Epoch 33/50\n",
      "54000/54000 [==============================] - 1s 26us/step - loss: 0.0688 - val_loss: 0.1105\n",
      "Epoch 34/50\n",
      "54000/54000 [==============================] - 1s 25us/step - loss: 0.0667 - val_loss: 0.1098\n",
      "Epoch 35/50\n",
      "54000/54000 [==============================] - 1s 25us/step - loss: 0.0647 - val_loss: 0.1095\n",
      "Epoch 36/50\n",
      "54000/54000 [==============================] - 1s 25us/step - loss: 0.0629 - val_loss: 0.1095\n",
      "Epoch 37/50\n",
      "54000/54000 [==============================] - 1s 23us/step - loss: 0.0611 - val_loss: 0.1088\n",
      "Epoch 38/50\n",
      "54000/54000 [==============================] - 1s 24us/step - loss: 0.0594 - val_loss: 0.1087\n",
      "Epoch 39/50\n",
      "54000/54000 [==============================] - 1s 25us/step - loss: 0.0577 - val_loss: 0.1077\n",
      "Epoch 40/50\n",
      "54000/54000 [==============================] - 1s 23us/step - loss: 0.0561 - val_loss: 0.1087\n",
      "Epoch 41/50\n",
      "54000/54000 [==============================] - 1s 23us/step - loss: 0.0546 - val_loss: 0.1079\n",
      "Epoch 42/50\n",
      "54000/54000 [==============================] - 1s 23us/step - loss: 0.0531 - val_loss: 0.1087\n",
      "Epoch 43/50\n",
      "54000/54000 [==============================] - 1s 24us/step - loss: 0.0515 - val_loss: 0.1086\n",
      "Epoch 44/50\n",
      "54000/54000 [==============================] - 1s 24us/step - loss: 0.0503 - val_loss: 0.1074\n",
      "Epoch 45/50\n",
      "54000/54000 [==============================] - 1s 24us/step - loss: 0.0490 - val_loss: 0.1076\n",
      "Epoch 46/50\n",
      "54000/54000 [==============================] - 1s 24us/step - loss: 0.0477 - val_loss: 0.1071\n",
      "Epoch 47/50\n",
      "54000/54000 [==============================] - 1s 25us/step - loss: 0.0464 - val_loss: 0.1077\n",
      "Epoch 48/50\n",
      "54000/54000 [==============================] - 1s 24us/step - loss: 0.0453 - val_loss: 0.1083\n",
      "Epoch 49/50\n",
      "54000/54000 [==============================] - 1s 25us/step - loss: 0.0440 - val_loss: 0.1077\n",
      "Epoch 50/50\n",
      "54000/54000 [==============================] - 2s 36us/step - loss: 0.0430 - val_loss: 0.1078\n"
     ]
    }
   ],
   "source": [
    "history = model.fit(X_train_centered,\n",
    "                    y_train_onehot,\n",
    "                    batch_size=64,\n",
    "                    epochs=50,\n",
    "                    verbose=1,            # メッセージ出力\n",
    "                    validation_split=0.1) # 検証用データの割合"
   ]
  },
  {
   "cell_type": "code",
   "execution_count": 14,
   "metadata": {},
   "outputs": [
    {
     "name": "stdout",
     "output_type": "stream",
     "text": [
      "Training accuracy: 98.98%\n",
      "Test accuracy: 96.10%\n"
     ]
    }
   ],
   "source": [
    "# 正解率の出力\n",
    "y_train_pred = model.predict_classes(X_train_centered, verbose=0)\n",
    "correct_preds = np.sum(y_train == y_train_pred, axis=0)\n",
    "train_acc = correct_preds / y_train.shape[0]\n",
    "print('Training accuracy: %.2f%%' % (train_acc * 100))\n",
    "\n",
    "y_test_pred = model.predict_classes(X_test_centered, verbose=0)\n",
    "correct_preds = np.sum(y_test == y_test_pred, axis=0)\n",
    "test_acc = correct_preds / y_test.shape[0]\n",
    "print('Test accuracy: %.2f%%' % (test_acc * 100))"
   ]
  }
 ],
 "metadata": {
  "kernelspec": {
   "display_name": "Python 3",
   "language": "python",
   "name": "python3"
  },
  "language_info": {
   "codemirror_mode": {
    "name": "ipython",
    "version": 3
   },
   "file_extension": ".py",
   "mimetype": "text/x-python",
   "name": "python",
   "nbconvert_exporter": "python",
   "pygments_lexer": "ipython3",
   "version": "3.7.0"
  }
 },
 "nbformat": 4,
 "nbformat_minor": 2
}
